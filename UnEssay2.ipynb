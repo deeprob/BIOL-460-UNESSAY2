{
 "cells": [
  {
   "cell_type": "code",
   "execution_count": 1,
   "metadata": {},
   "outputs": [],
   "source": [
    "# importing modules\n",
    "import pandas as pd\n",
    "\n",
    "# import self-written functions\n",
    "from helper import get_manhattan_plot"
   ]
  },
  {
   "cell_type": "markdown",
   "metadata": {},
   "source": [
    "# GWAS\n",
    "Genome Wide Association Study (GWAS) is an approach used to link genotypic variants to phenotypic traits of interest. It is useful especially to link complex traits. [1](#tag1)  "
   ]
  },
  {
   "cell_type": "markdown",
   "metadata": {},
   "source": [
    "# PLINK\n",
    "PLINK is an opensource toolset developed by Purcell et. al. to analyze GWAS data [2](#tag2). It is one of the most common tools used for this purpose and it does so in a computationally efficient manner. \n",
    "\n",
    "*I used conda to download plink. The environment file is available here :* [3](#tag3)"
   ]
  },
  {
   "cell_type": "markdown",
   "metadata": {},
   "source": [
    "# UnEssay Goal\n",
    "The goal of this UnEssay assignment is to demonstrate the use of plink to better understand the role of analysing GWAS data towards successfully linking a genetic variant to a phenotypic trait."
   ]
  },
  {
   "cell_type": "markdown",
   "metadata": {},
   "source": [
    "# Dataset \n",
    "The dataset used for this tutorial is a simulated sample of 89 individuals. The individuals are from 2 different subpopulations. 83534 genetic variants among the entire genome of these individuals have been used on this study with one of the variants directly linked to a simulated disease phenotype. The phenotypic trait was generated as a function of three components: \n",
    "\n",
    "1. A variant on chromosome 2, rs2222162\n",
    "2. subpopulation identity  \n",
    "3. a random component. \n",
    "\n",
    "The dataset has 4 files, 2 among which will be used for the purpose of this study,\n",
    "\n",
    "1. hapmap1.ped file \n",
    "2. hapmap1.map file\n",
    "\n",
    "Each of these files, which are essential for the association study and will be used by plink to analyse the data to come to biologically relevant conclusions, is described in the following section.\n",
    "\n",
    "*The dataset is available here:* [4](#tag4)"
   ]
  },
  {
   "cell_type": "code",
   "execution_count": 2,
   "metadata": {},
   "outputs": [
    {
     "name": "stdout",
     "output_type": "stream",
     "text": [
      "  % Total    % Received % Xferd  Average Speed   Time    Time     Time  Current\n",
      "                                 Dload  Upload   Total   Spent    Left  Speed\n",
      "100 2846k  100 2846k    0     0  1062k      0  0:00:02  0:00:02 --:--:-- 1061k\n"
     ]
    }
   ],
   "source": [
    "# downloading the data as a zip file\n",
    "!curl --output 'data/hapmap1.zip' 'http://zzz.bwh.harvard.edu/plink/hapmap1.zip'"
   ]
  },
  {
   "cell_type": "code",
   "execution_count": 3,
   "metadata": {},
   "outputs": [
    {
     "name": "stdout",
     "output_type": "stream",
     "text": [
      "x hapmap1.ped\n",
      "x hapmap1.map\n",
      "x pop.phe\n",
      "x qt.phe\n"
     ]
    }
   ],
   "source": [
    "# unzipping the zip file\n",
    "!tar -xvf data/hapmap1.zip -C data/"
   ]
  },
  {
   "cell_type": "markdown",
   "metadata": {},
   "source": [
    "# Explore dataset\n",
    "Here, we will explore the two files mentioned above and describe its contents."
   ]
  },
  {
   "cell_type": "markdown",
   "metadata": {},
   "source": [
    "##  ped file\n",
    "The ped file contains the genotype information of each individual who participated in the study. It has six mandatory columns that encode specific information of an individual followed by a variable number of columns that describe the genetic variants of that particualr individual. \n",
    "The first 6 mandatory columns contain the following information:\n",
    "\n",
    "1. Family ID \n",
    "2. Individual ID \n",
    "3. Paternal ID \n",
    "4. Maternal ID \n",
    "5. Sex (1=male; 2=female; other=unknown) \n",
    "6. Phenotype \n",
    "\n",
    "In our case, since we are looking at 83534 genetic variants, the number of columns should be 6 + 83534\\*2 (diploid individual) or 167074. Since we are looking at 89 individuals, the number of rows should be 89.  We verify both rows and columns in the following code cell."
   ]
  },
  {
   "cell_type": "code",
   "execution_count": 4,
   "metadata": {},
   "outputs": [],
   "source": [
    "with open('data/hapmap1.ped','r') as file:\n",
    "    genetic_info = []\n",
    "    for lines in file:\n",
    "        data = lines.strip('\\n').split(' ')\n",
    "        genetic_info.append(data)"
   ]
  },
  {
   "cell_type": "code",
   "execution_count": 5,
   "metadata": {},
   "outputs": [
    {
     "name": "stdout",
     "output_type": "stream",
     "text": [
      "The number of individuals studied here is 89.\n"
     ]
    }
   ],
   "source": [
    "print(f'The number of individuals studied here is {len(genetic_info)}.')"
   ]
  },
  {
   "cell_type": "code",
   "execution_count": 6,
   "metadata": {},
   "outputs": [
    {
     "name": "stdout",
     "output_type": "stream",
     "text": [
      "The number of columns corresponding to each individual is 167074.\n"
     ]
    }
   ],
   "source": [
    "print(f'The number of columns corresponding to each individual is {len(genetic_info[0])}.')"
   ]
  },
  {
   "cell_type": "markdown",
   "metadata": {},
   "source": [
    "## map file\n",
    "Each line in the map file describes a single genetic variant and it contains 4 columns which has the following information about the variant:\n",
    "\n",
    "1. chromosome number where the variant is found\n",
    "2. snp identifier, an unique id for the variant\n",
    "3. Genetic distance in morgans\n",
    "4. Base-pair position of the variant\n",
    "\n",
    "We take a look below at the first 5 lines of our map file, hapmap1.map "
   ]
  },
  {
   "cell_type": "code",
   "execution_count": 7,
   "metadata": {},
   "outputs": [
    {
     "name": "stdout",
     "output_type": "stream",
     "text": [
      "1 rs6681049 0 1\r\n",
      "1 rs4074137 0 2\r\n",
      "1 rs7540009 0 3\r\n",
      "1 rs1891905 0 4\r\n",
      "1 rs9729550 0 5\r\n",
      "cat: stdout: Broken pipe\r\n"
     ]
    }
   ],
   "source": [
    "!cat data/hapmap1.map | head -n 5"
   ]
  },
  {
   "cell_type": "markdown",
   "metadata": {},
   "source": [
    "# Simple Association between genotype and phenotype\n",
    "Next we perform an association analysis of our data to determine the potential causal variant responsible for the disease trait."
   ]
  },
  {
   "cell_type": "code",
   "execution_count": 8,
   "metadata": {
    "scrolled": true
   },
   "outputs": [],
   "source": [
    "!plink --file data/hapmap1 --assoc --silent --out results/basic"
   ]
  },
  {
   "cell_type": "markdown",
   "metadata": {},
   "source": [
    "We take a look at the association file prepared by plink below. It is named basic.assoc and it has the following columns:\n",
    "\n",
    "1. Chromosome\n",
    "2. SNP identifier\n",
    "3. Base Position\n",
    "4. Code for allele 1 (the minor, rare allele based on the entire sample frequencies)\n",
    "5. The frequency of this variant in cases\n",
    "6. The frequency of this variant in controls\n",
    "7. Code for the other allele\n",
    "8. The chi-squared statistic for this test (1 df)\n",
    "9. The asymptotic significance value for this test\n",
    "10. The odds ratio for this test "
   ]
  },
  {
   "cell_type": "code",
   "execution_count": 9,
   "metadata": {},
   "outputs": [
    {
     "data": {
      "text/html": [
       "<div>\n",
       "<style scoped>\n",
       "    .dataframe tbody tr th:only-of-type {\n",
       "        vertical-align: middle;\n",
       "    }\n",
       "\n",
       "    .dataframe tbody tr th {\n",
       "        vertical-align: top;\n",
       "    }\n",
       "\n",
       "    .dataframe thead th {\n",
       "        text-align: right;\n",
       "    }\n",
       "</style>\n",
       "<table border=\"1\" class=\"dataframe\">\n",
       "  <thead>\n",
       "    <tr style=\"text-align: right;\">\n",
       "      <th></th>\n",
       "      <th>CHR</th>\n",
       "      <th>SNP</th>\n",
       "      <th>BP</th>\n",
       "      <th>A1</th>\n",
       "      <th>F_A</th>\n",
       "      <th>F_U</th>\n",
       "      <th>A2</th>\n",
       "      <th>CHISQ</th>\n",
       "      <th>P</th>\n",
       "      <th>OR</th>\n",
       "    </tr>\n",
       "  </thead>\n",
       "  <tbody>\n",
       "    <tr>\n",
       "      <th>0</th>\n",
       "      <td>1</td>\n",
       "      <td>rs6681049</td>\n",
       "      <td>1</td>\n",
       "      <td>1</td>\n",
       "      <td>0.15910</td>\n",
       "      <td>0.26670</td>\n",
       "      <td>2</td>\n",
       "      <td>3.067000</td>\n",
       "      <td>0.07991</td>\n",
       "      <td>0.5203</td>\n",
       "    </tr>\n",
       "    <tr>\n",
       "      <th>1</th>\n",
       "      <td>1</td>\n",
       "      <td>rs4074137</td>\n",
       "      <td>2</td>\n",
       "      <td>1</td>\n",
       "      <td>0.07955</td>\n",
       "      <td>0.07778</td>\n",
       "      <td>2</td>\n",
       "      <td>0.001919</td>\n",
       "      <td>0.96510</td>\n",
       "      <td>1.0250</td>\n",
       "    </tr>\n",
       "    <tr>\n",
       "      <th>2</th>\n",
       "      <td>1</td>\n",
       "      <td>rs7540009</td>\n",
       "      <td>3</td>\n",
       "      <td>0</td>\n",
       "      <td>0.00000</td>\n",
       "      <td>0.00000</td>\n",
       "      <td>2</td>\n",
       "      <td>NaN</td>\n",
       "      <td>NaN</td>\n",
       "      <td>NaN</td>\n",
       "    </tr>\n",
       "    <tr>\n",
       "      <th>3</th>\n",
       "      <td>1</td>\n",
       "      <td>rs1891905</td>\n",
       "      <td>4</td>\n",
       "      <td>1</td>\n",
       "      <td>0.40910</td>\n",
       "      <td>0.40000</td>\n",
       "      <td>2</td>\n",
       "      <td>0.015270</td>\n",
       "      <td>0.90170</td>\n",
       "      <td>1.0380</td>\n",
       "    </tr>\n",
       "    <tr>\n",
       "      <th>4</th>\n",
       "      <td>1</td>\n",
       "      <td>rs9729550</td>\n",
       "      <td>5</td>\n",
       "      <td>1</td>\n",
       "      <td>0.17050</td>\n",
       "      <td>0.08889</td>\n",
       "      <td>2</td>\n",
       "      <td>2.631000</td>\n",
       "      <td>0.10480</td>\n",
       "      <td>2.1060</td>\n",
       "    </tr>\n",
       "  </tbody>\n",
       "</table>\n",
       "</div>"
      ],
      "text/plain": [
       "   CHR        SNP  BP  A1      F_A      F_U  A2     CHISQ        P      OR\n",
       "0    1  rs6681049   1   1  0.15910  0.26670   2  3.067000  0.07991  0.5203\n",
       "1    1  rs4074137   2   1  0.07955  0.07778   2  0.001919  0.96510  1.0250\n",
       "2    1  rs7540009   3   0  0.00000  0.00000   2       NaN      NaN     NaN\n",
       "3    1  rs1891905   4   1  0.40910  0.40000   2  0.015270  0.90170  1.0380\n",
       "4    1  rs9729550   5   1  0.17050  0.08889   2  2.631000  0.10480  2.1060"
      ]
     },
     "execution_count": 9,
     "metadata": {},
     "output_type": "execute_result"
    }
   ],
   "source": [
    "assoc_df = pd.read_csv('results/basic.assoc',delimiter=r'\\s+',engine='python')\n",
    "assoc_df.head()"
   ]
  },
  {
   "cell_type": "markdown",
   "metadata": {},
   "source": [
    "We can check to see if our known variant rs2222162 is present in the analysis file as a significant SNP based on P-value by sorting the association file by the P-value column."
   ]
  },
  {
   "cell_type": "code",
   "execution_count": 10,
   "metadata": {},
   "outputs": [
    {
     "data": {
      "text/html": [
       "<div>\n",
       "<style scoped>\n",
       "    .dataframe tbody tr th:only-of-type {\n",
       "        vertical-align: middle;\n",
       "    }\n",
       "\n",
       "    .dataframe tbody tr th {\n",
       "        vertical-align: top;\n",
       "    }\n",
       "\n",
       "    .dataframe thead th {\n",
       "        text-align: right;\n",
       "    }\n",
       "</style>\n",
       "<table border=\"1\" class=\"dataframe\">\n",
       "  <thead>\n",
       "    <tr style=\"text-align: right;\">\n",
       "      <th></th>\n",
       "      <th>CHR</th>\n",
       "      <th>SNP</th>\n",
       "      <th>BP</th>\n",
       "      <th>A1</th>\n",
       "      <th>F_A</th>\n",
       "      <th>F_U</th>\n",
       "      <th>A2</th>\n",
       "      <th>CHISQ</th>\n",
       "      <th>P</th>\n",
       "      <th>OR</th>\n",
       "    </tr>\n",
       "  </thead>\n",
       "  <tbody>\n",
       "    <tr>\n",
       "      <th>64273</th>\n",
       "      <td>13</td>\n",
       "      <td>rs9585021</td>\n",
       "      <td>64274</td>\n",
       "      <td>1</td>\n",
       "      <td>0.6250</td>\n",
       "      <td>0.28410</td>\n",
       "      <td>2</td>\n",
       "      <td>20.62</td>\n",
       "      <td>0.000006</td>\n",
       "      <td>4.2000</td>\n",
       "    </tr>\n",
       "    <tr>\n",
       "      <th>10601</th>\n",
       "      <td>2</td>\n",
       "      <td>rs2222162</td>\n",
       "      <td>10602</td>\n",
       "      <td>1</td>\n",
       "      <td>0.2841</td>\n",
       "      <td>0.62220</td>\n",
       "      <td>2</td>\n",
       "      <td>20.51</td>\n",
       "      <td>0.000006</td>\n",
       "      <td>0.2409</td>\n",
       "    </tr>\n",
       "    <tr>\n",
       "      <th>46334</th>\n",
       "      <td>9</td>\n",
       "      <td>rs10810856</td>\n",
       "      <td>46335</td>\n",
       "      <td>1</td>\n",
       "      <td>0.2955</td>\n",
       "      <td>0.04444</td>\n",
       "      <td>2</td>\n",
       "      <td>20.01</td>\n",
       "      <td>0.000008</td>\n",
       "      <td>9.0160</td>\n",
       "    </tr>\n",
       "    <tr>\n",
       "      <th>13219</th>\n",
       "      <td>2</td>\n",
       "      <td>rs4675607</td>\n",
       "      <td>13220</td>\n",
       "      <td>1</td>\n",
       "      <td>0.1628</td>\n",
       "      <td>0.47780</td>\n",
       "      <td>2</td>\n",
       "      <td>19.93</td>\n",
       "      <td>0.000008</td>\n",
       "      <td>0.2125</td>\n",
       "    </tr>\n",
       "    <tr>\n",
       "      <th>13217</th>\n",
       "      <td>2</td>\n",
       "      <td>rs4673349</td>\n",
       "      <td>13218</td>\n",
       "      <td>1</td>\n",
       "      <td>0.1818</td>\n",
       "      <td>0.50000</td>\n",
       "      <td>2</td>\n",
       "      <td>19.83</td>\n",
       "      <td>0.000008</td>\n",
       "      <td>0.2222</td>\n",
       "    </tr>\n",
       "  </tbody>\n",
       "</table>\n",
       "</div>"
      ],
      "text/plain": [
       "       CHR         SNP     BP  A1     F_A      F_U  A2  CHISQ         P  \\\n",
       "64273   13   rs9585021  64274   1  0.6250  0.28410   2  20.62  0.000006   \n",
       "10601    2   rs2222162  10602   1  0.2841  0.62220   2  20.51  0.000006   \n",
       "46334    9  rs10810856  46335   1  0.2955  0.04444   2  20.01  0.000008   \n",
       "13219    2   rs4675607  13220   1  0.1628  0.47780   2  19.93  0.000008   \n",
       "13217    2   rs4673349  13218   1  0.1818  0.50000   2  19.83  0.000008   \n",
       "\n",
       "           OR  \n",
       "64273  4.2000  \n",
       "10601  0.2409  \n",
       "46334  9.0160  \n",
       "13219  0.2125  \n",
       "13217  0.2222  "
      ]
     },
     "execution_count": 10,
     "metadata": {},
     "output_type": "execute_result"
    }
   ],
   "source": [
    "assoc_df.sort_values(by='P').head()"
   ]
  },
  {
   "cell_type": "markdown",
   "metadata": {},
   "source": [
    "We can see that the simulated causal variant, rs2222162, is the second most significant SNP in our analysis. The SNP rs9585021 which is predicted to be the most significant SNP by plink can possibly be in linkage disquilibrium with the causal SNP or it may have just occurred randomly as a significant SNP. "
   ]
  },
  {
   "cell_type": "markdown",
   "metadata": {},
   "source": [
    "## Manhattan Plot of the association\n",
    "We can visualize our association results using a Manhattan plot. "
   ]
  },
  {
   "cell_type": "code",
   "execution_count": 11,
   "metadata": {},
   "outputs": [
    {
     "data": {
      "image/png": "[encoded data removed]",
      "text/plain": [
       "<Figure size 432x288 with 1 Axes>"
      ]
     },
     "metadata": {
      "needs_background": "light"
     },
     "output_type": "display_data"
    }
   ],
   "source": [
    "get_manhattan_plot(assoc_df,'P')"
   ]
  },
  {
   "cell_type": "markdown",
   "metadata": {},
   "source": [
    "We can see multiple (too many) genetic variants above the p-value threshold of 0.05. We should however take care of the multiple testing criterion since we are performing so many tests. "
   ]
  },
  {
   "cell_type": "markdown",
   "metadata": {},
   "source": [
    "# Adjusted association between genotype and phenotype\n",
    "To take care of error due to multiple testing, we can even perform an adjusted association study. "
   ]
  },
  {
   "cell_type": "code",
   "execution_count": 12,
   "metadata": {},
   "outputs": [],
   "source": [
    "!plink --file data/hapmap1 --assoc --adjust --silent --out results/adjust"
   ]
  },
  {
   "cell_type": "markdown",
   "metadata": {},
   "source": [
    "We take a look at the adjusted association file created by plink. In this file, there are 10 columns for every genetic variant, described below:\n",
    "\n",
    "\n",
    "1. Chromosome number where the variant lies, CHR\n",
    "2. SNP identifier of the variant, SNP\n",
    "3. Unadjusted, asymptotic significance value, UNADJ\n",
    "4. Genomic control adjusted significance value, GC. This is based on a simple estimation of the inflation factor based on median chi-square statistic. These values do not control for multiple testing therefore.\n",
    "5. Bonferroni adjusted significance value, BONF\n",
    "6. Holm step-down adjusted significance value, HOLM\n",
    "7. Sidak single-step adjusted significance value, SIDAK_SS\n",
    "8. Sidak step-down adjusted significance value, SIDAK_SD\n",
    "9. Benjamini & Hochberg (1995) step-up FDR control, FDR_BH\n",
    "10. Benjamini & Yekutieli (2001) step-up FDR control, FDR_BY "
   ]
  },
  {
   "cell_type": "code",
   "execution_count": 13,
   "metadata": {},
   "outputs": [
    {
     "data": {
      "text/html": [
       "<div>\n",
       "<style scoped>\n",
       "    .dataframe tbody tr th:only-of-type {\n",
       "        vertical-align: middle;\n",
       "    }\n",
       "\n",
       "    .dataframe tbody tr th {\n",
       "        vertical-align: top;\n",
       "    }\n",
       "\n",
       "    .dataframe thead th {\n",
       "        text-align: right;\n",
       "    }\n",
       "</style>\n",
       "<table border=\"1\" class=\"dataframe\">\n",
       "  <thead>\n",
       "    <tr style=\"text-align: right;\">\n",
       "      <th></th>\n",
       "      <th>CHR</th>\n",
       "      <th>SNP</th>\n",
       "      <th>UNADJ</th>\n",
       "      <th>GC</th>\n",
       "      <th>BONF</th>\n",
       "      <th>HOLM</th>\n",
       "      <th>SIDAK_SS</th>\n",
       "      <th>SIDAK_SD</th>\n",
       "      <th>FDR_BH</th>\n",
       "      <th>FDR_BY</th>\n",
       "    </tr>\n",
       "  </thead>\n",
       "  <tbody>\n",
       "    <tr>\n",
       "      <th>0</th>\n",
       "      <td>13</td>\n",
       "      <td>rs9585021</td>\n",
       "      <td>0.000006</td>\n",
       "      <td>0.000050</td>\n",
       "      <td>0.3839</td>\n",
       "      <td>0.3839</td>\n",
       "      <td>0.3188</td>\n",
       "      <td>0.3188</td>\n",
       "      <td>0.09719</td>\n",
       "      <td>1</td>\n",
       "    </tr>\n",
       "    <tr>\n",
       "      <th>1</th>\n",
       "      <td>2</td>\n",
       "      <td>rs2222162</td>\n",
       "      <td>0.000006</td>\n",
       "      <td>0.000052</td>\n",
       "      <td>0.4068</td>\n",
       "      <td>0.4067</td>\n",
       "      <td>0.3342</td>\n",
       "      <td>0.3342</td>\n",
       "      <td>0.09719</td>\n",
       "      <td>1</td>\n",
       "    </tr>\n",
       "    <tr>\n",
       "      <th>2</th>\n",
       "      <td>9</td>\n",
       "      <td>rs10810856</td>\n",
       "      <td>0.000008</td>\n",
       "      <td>0.000065</td>\n",
       "      <td>0.5308</td>\n",
       "      <td>0.5308</td>\n",
       "      <td>0.4118</td>\n",
       "      <td>0.4118</td>\n",
       "      <td>0.09719</td>\n",
       "      <td>1</td>\n",
       "    </tr>\n",
       "    <tr>\n",
       "      <th>3</th>\n",
       "      <td>2</td>\n",
       "      <td>rs4675607</td>\n",
       "      <td>0.000008</td>\n",
       "      <td>0.000067</td>\n",
       "      <td>0.5533</td>\n",
       "      <td>0.5533</td>\n",
       "      <td>0.4249</td>\n",
       "      <td>0.4249</td>\n",
       "      <td>0.09719</td>\n",
       "      <td>1</td>\n",
       "    </tr>\n",
       "    <tr>\n",
       "      <th>4</th>\n",
       "      <td>2</td>\n",
       "      <td>rs1375352</td>\n",
       "      <td>0.000008</td>\n",
       "      <td>0.000070</td>\n",
       "      <td>0.5832</td>\n",
       "      <td>0.5831</td>\n",
       "      <td>0.4419</td>\n",
       "      <td>0.4419</td>\n",
       "      <td>0.09719</td>\n",
       "      <td>1</td>\n",
       "    </tr>\n",
       "  </tbody>\n",
       "</table>\n",
       "</div>"
      ],
      "text/plain": [
       "   CHR         SNP     UNADJ        GC    BONF    HOLM  SIDAK_SS  SIDAK_SD  \\\n",
       "0   13   rs9585021  0.000006  0.000050  0.3839  0.3839    0.3188    0.3188   \n",
       "1    2   rs2222162  0.000006  0.000052  0.4068  0.4067    0.3342    0.3342   \n",
       "2    9  rs10810856  0.000008  0.000065  0.5308  0.5308    0.4118    0.4118   \n",
       "3    2   rs4675607  0.000008  0.000067  0.5533  0.5533    0.4249    0.4249   \n",
       "4    2   rs1375352  0.000008  0.000070  0.5832  0.5831    0.4419    0.4419   \n",
       "\n",
       "    FDR_BH  FDR_BY  \n",
       "0  0.09719       1  \n",
       "1  0.09719       1  \n",
       "2  0.09719       1  \n",
       "3  0.09719       1  \n",
       "4  0.09719       1  "
      ]
     },
     "execution_count": 13,
     "metadata": {},
     "output_type": "execute_result"
    }
   ],
   "source": [
    "adj_assoc_df = pd.read_csv('results/adjust.assoc.adjusted',delimiter=r'\\s+',engine='python')\n",
    "adj_assoc_df.head()"
   ]
  },
  {
   "cell_type": "markdown",
   "metadata": {},
   "source": [
    "The manhattan plot is shown below using the Bonferroni adjusted significance value instead of the unadjusted P value"
   ]
  },
  {
   "cell_type": "code",
   "execution_count": 14,
   "metadata": {},
   "outputs": [
    {
     "data": {
      "image/png": "[encoded data removed]",
      "text/plain": [
       "<Figure size 432x288 with 1 Axes>"
      ]
     },
     "metadata": {
      "needs_background": "light"
     },
     "output_type": "display_data"
    }
   ],
   "source": [
    "get_manhattan_plot(adj_assoc_df,'BONF')"
   ]
  },
  {
   "cell_type": "markdown",
   "metadata": {},
   "source": [
    "As we can see above, after our adjustments, none of them are even close to the significant threshold. So far, we have ignored the effect of having two different subpopulations and must take these into account. Since we already know that we have two distinct subpopulations in our simulated sample, it is easy for us to cluster them into two groups by specifying the number of clusters to plink. However, in real scenario, we do not know beforehand how many clusters to select.  "
   ]
  },
  {
   "cell_type": "markdown",
   "metadata": {},
   "source": [
    "# Stratifying the data by subpopulation \n",
    "Here, we divide our dataset into 2 clusters based on their genetic variants."
   ]
  },
  {
   "cell_type": "code",
   "execution_count": 15,
   "metadata": {},
   "outputs": [],
   "source": [
    "!plink --file data/hapmap1 --cluster --silent --K 2 --out results/popclust"
   ]
  },
  {
   "cell_type": "markdown",
   "metadata": {},
   "source": [
    "# Adjusted value after stratification\n",
    "Next we will use the stratified dataset to perform our adjusted analysis using plink and visualize it using the manhattan plot."
   ]
  },
  {
   "cell_type": "code",
   "execution_count": 16,
   "metadata": {},
   "outputs": [],
   "source": [
    "!plink --file data/hapmap1 --mh --silent --within results/popclust.cluster2 --adjust --out results/final"
   ]
  },
  {
   "cell_type": "code",
   "execution_count": 17,
   "metadata": {},
   "outputs": [
    {
     "data": {
      "text/html": [
       "<div>\n",
       "<style scoped>\n",
       "    .dataframe tbody tr th:only-of-type {\n",
       "        vertical-align: middle;\n",
       "    }\n",
       "\n",
       "    .dataframe tbody tr th {\n",
       "        vertical-align: top;\n",
       "    }\n",
       "\n",
       "    .dataframe thead th {\n",
       "        text-align: right;\n",
       "    }\n",
       "</style>\n",
       "<table border=\"1\" class=\"dataframe\">\n",
       "  <thead>\n",
       "    <tr style=\"text-align: right;\">\n",
       "      <th></th>\n",
       "      <th>CHR</th>\n",
       "      <th>SNP</th>\n",
       "      <th>UNADJ</th>\n",
       "      <th>GC</th>\n",
       "      <th>BONF</th>\n",
       "      <th>HOLM</th>\n",
       "      <th>SIDAK_SS</th>\n",
       "      <th>SIDAK_SD</th>\n",
       "      <th>FDR_BH</th>\n",
       "      <th>FDR_BY</th>\n",
       "    </tr>\n",
       "  </thead>\n",
       "  <tbody>\n",
       "    <tr>\n",
       "      <th>0</th>\n",
       "      <td>2</td>\n",
       "      <td>rs2222162</td>\n",
       "      <td>3.534000e-07</td>\n",
       "      <td>7.705000e-07</td>\n",
       "      <td>0.02429</td>\n",
       "      <td>0.02429</td>\n",
       "      <td>0.0240</td>\n",
       "      <td>0.0240</td>\n",
       "      <td>0.02429</td>\n",
       "      <td>0.2846</td>\n",
       "    </tr>\n",
       "    <tr>\n",
       "      <th>1</th>\n",
       "      <td>13</td>\n",
       "      <td>rs9585021</td>\n",
       "      <td>3.678000e-06</td>\n",
       "      <td>7.033000e-06</td>\n",
       "      <td>0.25280</td>\n",
       "      <td>0.25270</td>\n",
       "      <td>0.2233</td>\n",
       "      <td>0.2233</td>\n",
       "      <td>0.12640</td>\n",
       "      <td>1.0000</td>\n",
       "    </tr>\n",
       "    <tr>\n",
       "      <th>2</th>\n",
       "      <td>2</td>\n",
       "      <td>rs4675607</td>\n",
       "      <td>9.038000e-06</td>\n",
       "      <td>1.644000e-05</td>\n",
       "      <td>0.62110</td>\n",
       "      <td>0.62110</td>\n",
       "      <td>0.4627</td>\n",
       "      <td>0.4627</td>\n",
       "      <td>0.19060</td>\n",
       "      <td>1.0000</td>\n",
       "    </tr>\n",
       "    <tr>\n",
       "      <th>3</th>\n",
       "      <td>2</td>\n",
       "      <td>rs1375352</td>\n",
       "      <td>1.386000e-05</td>\n",
       "      <td>2.463000e-05</td>\n",
       "      <td>0.95280</td>\n",
       "      <td>0.95270</td>\n",
       "      <td>0.6143</td>\n",
       "      <td>0.6143</td>\n",
       "      <td>0.19060</td>\n",
       "      <td>1.0000</td>\n",
       "    </tr>\n",
       "    <tr>\n",
       "      <th>4</th>\n",
       "      <td>2</td>\n",
       "      <td>rs4673349</td>\n",
       "      <td>1.386000e-05</td>\n",
       "      <td>2.463000e-05</td>\n",
       "      <td>0.95280</td>\n",
       "      <td>0.95270</td>\n",
       "      <td>0.6143</td>\n",
       "      <td>0.6143</td>\n",
       "      <td>0.19060</td>\n",
       "      <td>1.0000</td>\n",
       "    </tr>\n",
       "  </tbody>\n",
       "</table>\n",
       "</div>"
      ],
      "text/plain": [
       "   CHR        SNP         UNADJ            GC     BONF     HOLM  SIDAK_SS  \\\n",
       "0    2  rs2222162  3.534000e-07  7.705000e-07  0.02429  0.02429    0.0240   \n",
       "1   13  rs9585021  3.678000e-06  7.033000e-06  0.25280  0.25270    0.2233   \n",
       "2    2  rs4675607  9.038000e-06  1.644000e-05  0.62110  0.62110    0.4627   \n",
       "3    2  rs1375352  1.386000e-05  2.463000e-05  0.95280  0.95270    0.6143   \n",
       "4    2  rs4673349  1.386000e-05  2.463000e-05  0.95280  0.95270    0.6143   \n",
       "\n",
       "   SIDAK_SD   FDR_BH  FDR_BY  \n",
       "0    0.0240  0.02429  0.2846  \n",
       "1    0.2233  0.12640  1.0000  \n",
       "2    0.4627  0.19060  1.0000  \n",
       "3    0.6143  0.19060  1.0000  \n",
       "4    0.6143  0.19060  1.0000  "
      ]
     },
     "execution_count": 17,
     "metadata": {},
     "output_type": "execute_result"
    }
   ],
   "source": [
    "clust_adj_assoc_df = pd.read_csv('results/final.cmh.adjusted',delimiter=r'\\s+',engine='python')\n",
    "clust_adj_assoc_df.head()"
   ]
  },
  {
   "cell_type": "code",
   "execution_count": 18,
   "metadata": {},
   "outputs": [
    {
     "data": {
      "image/png": "[encoded data removed]",
      "text/plain": [
       "<Figure size 432x288 with 1 Axes>"
      ]
     },
     "metadata": {
      "needs_background": "light"
     },
     "output_type": "display_data"
    }
   ],
   "source": [
    "get_manhattan_plot(clust_adj_assoc_df,'BONF')"
   ]
  },
  {
   "cell_type": "markdown",
   "metadata": {},
   "source": [
    "Now we can clearly see that only one SNP is significant after adjusting the p-value using Bonferroni correction to take care of multiple testing. We see that the significant variant is indeed our simulated causal variant rs2222162 present in chromosome 2 from the sorted dataframe object clust_adj_assoc where only rs2222162 has a bonferroni adjusted score less than 0.05.\n",
    "\n",
    "**Please note that this is a simplified example adopted from PLINK tutorial. The actual scenario will be much more complicated.**"
   ]
  },
  {
   "cell_type": "markdown",
   "metadata": {},
   "source": [
    "# Conclusion"
   ]
  },
  {
   "cell_type": "markdown",
   "metadata": {},
   "source": [
    "In conclusion, we can say that GWAS can be an extremely useful approach to help us answer the most important question in human genetics, which genetic variants are linked to clinical traits. PLINK can be a helpful tool to analyse GWAS data as illustrated by this example.\n",
    "\n",
    "*All the codes related to this assignment are available in the github repositiory* [3](#tag3). "
   ]
  },
  {
   "cell_type": "markdown",
   "metadata": {},
   "source": [
    "# References\n",
    "\n",
    "1. <a id='tag1'>https://www.cell.com/ajhg/fulltext/S0002-9297(17)30240-9</a>\n",
    "2. <a id='tag2'>https://www.cell.com/ajhg/fulltext/S0002-9297(07)61352-4</a>\n",
    "3. <a id='tag3'>https://github.com/deeprob/BIOL-460-UNESSAY2</a>\n",
    "4. <a id='tag4'>http://zzz.bwh.harvard.edu/plink/hapmap1.zip</a>"
   ]
  }
 ],
 "metadata": {
  "kernelspec": {
   "display_name": "Python 3",
   "language": "python",
   "name": "python3"
  },
  "language_info": {
   "codemirror_mode": {
    "name": "ipython",
    "version": 3
   },
   "file_extension": ".py",
   "mimetype": "text/x-python",
   "name": "python",
   "nbconvert_exporter": "python",
   "pygments_lexer": "ipython3",
   "version": "3.7.8"
  }
 },
 "nbformat": 4,
 "nbformat_minor": 4
}
